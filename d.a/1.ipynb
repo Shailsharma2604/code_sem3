{
 "cells": [
  {
   "cell_type": "code",
   "execution_count": 1,
   "metadata": {},
   "outputs": [],
   "source": [
    "import pandas as pd\n",
    "import numpy as np\n"
   ]
  },
  {
   "cell_type": "code",
   "execution_count": 5,
   "metadata": {},
   "outputs": [
    {
     "name": "stdout",
     "output_type": "stream",
     "text": [
      "0\n"
     ]
    }
   ],
   "source": [
    "a=input()\n",
    "a=str(a)\n",
    "print((a))"
   ]
  },
  {
   "cell_type": "code",
   "execution_count": 1,
   "metadata": {},
   "outputs": [],
   "source": [
    "import pandas as pd\n",
    "\n",
    "data = pd.DataFrame({'A': [1, 2, 3, 4, 5],\n",
    "                     'B': [5, 4, 3, 2, 1]})\n",
    "\n",
    "# Calculate mean and median\n",
    "mean_A = data['A'].mean()\n",
    "median_B = data['B'].median()\n",
    "\n",
    "# Count unique values\n",
    "unique_counts = data['A'].value_counts()\n",
    "\n",
    "# Compute correlation matrix\n",
    "correlation_matrix = data.corr()\n",
    "\n",
    "# Generate summary statistics\n",
    "summary_stats = data.describe()\n",
    "\n",
    "# Calculate skewness and kurtosis\n",
    "skew_A = data['A'].skew()\n",
    "kurt_B = data['B'].kurt()\n",
    "\n",
    "# Compute cumulative sum\n",
    "cumulative_sum_A = data['A'].cumsum()\n"
   ]
  }
 ],
 "metadata": {
  "kernelspec": {
   "display_name": "Python 3",
   "language": "python",
   "name": "python3"
  },
  "language_info": {
   "codemirror_mode": {
    "name": "ipython",
    "version": 3
   },
   "file_extension": ".py",
   "mimetype": "text/x-python",
   "name": "python",
   "nbconvert_exporter": "python",
   "pygments_lexer": "ipython3",
   "version": "3.10.0"
  },
  "orig_nbformat": 4
 },
 "nbformat": 4,
 "nbformat_minor": 2
}
